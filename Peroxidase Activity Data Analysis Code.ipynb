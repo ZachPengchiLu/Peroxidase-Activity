{
 "cells": [
  {
   "cell_type": "code",
   "execution_count": null,
   "id": "2fdd3e40",
   "metadata": {},
   "outputs": [],
   "source": [
    "import numpy as np\n",
    "import matplotlib.pyplot as plt\n",
    "import pandas as pd\n",
    "from scipy.optimize import curve_fit\n",
    "from scipy import stats"
   ]
  },
  {
   "cell_type": "code",
   "execution_count": null,
   "id": "8f543807",
   "metadata": {},
   "outputs": [],
   "source": [
    "df0 = pd.read_excel ('Peroxidase Activity Coding Sheet.xlsx', sheet_name=0)\n",
    "\n",
    "print(df0)"
   ]
  },
  {
   "cell_type": "code",
   "execution_count": null,
   "id": "11c3882b",
   "metadata": {},
   "outputs": [],
   "source": [
    "x1 = [0, 6.25, 12.5, 25, 37.5, 43.75, 50, 62.5, 75, 87.5, 93.75, 100, 125, 150, 175] \n",
    "df0.insert(0, '[Guaiacol]', x1) \n",
    "print(df0)"
   ]
  },
  {
   "cell_type": "code",
   "execution_count": null,
   "id": "6ff2a79a",
   "metadata": {},
   "outputs": [],
   "source": [
    "ydata1=df['Horse Heart Initial Velocity - 1']\n",
    "ydata2=df['Horse Heart Initial Velocity - 2']\n",
    "ydata3=df['Horse Heart Initial Velocity - 3']\n",
    "ydata4=df['Bovine Heart Initial Velocity - 1']\n",
    "ydata5=df['Bovine Heart Initial Velocity - 2']\n",
    "ydata6=df['Bovine Heart Initial Velocity - 3']\n",
    "\n",
    "plt.figure(figsize=(7,5))\n",
    "plt.plot(x1, ydata1, 'o', color='black', markersize=8)\n",
    "plt.plot(x1, ydata2, 'o', color='black', markersize=8)\n",
    "plt.plot(x1, ydata3, 'o', color='black', markersize=8)\n",
    "plt.plot(x1, ydata4, 'o', color='gray', markersize=8)\n",
    "plt.plot(x1, ydata5, 'o', color='gray', markersize=8)\n",
    "plt.plot(x1, ydata6, 'o', color='gray', markersize=8)\n",
    "plt.title('Peroxidase Activity', fontsize=18)\n",
    "plt.xlabel('$[Guaiacol]$ (μM)', fontsize=14)\n",
    "plt.ylabel('Initial Velocity (μM/s)', fontsize=14)\n",
    "plt.show"
   ]
  },
  {
   "cell_type": "code",
   "execution_count": null,
   "id": "ab0cbc58",
   "metadata": {},
   "outputs": [],
   "source": [
    "df0['Horse-mean'] = df0.iloc[:,1:4].mean(axis=1)  \n",
    "df0['Horse-std'] = df0.iloc[:,1:4].std(axis=1)\n",
    "\n",
    "df0['Bovine-mean'] = df0.iloc[:,4:7].mean(axis=1) \n",
    "df0['Bovine-std'] = df0.iloc[:,4:7].std(axis=1)\n",
    "print(df0)"
   ]
  },
  {
   "cell_type": "code",
   "execution_count": null,
   "id": "43b5542f",
   "metadata": {},
   "outputs": [],
   "source": [
    "def funcMMB(x, Km, Vmax) :\n",
    "    return (Vmax * x)/(Km + x)\n",
    "\n",
    "paramsMMB, params_covarianceMMB = curve_fit(funcMMB,x1,df0['Bovine-mean'], [12.5, 0.01])\n",
    "print(paramsMMB)\n",
    "print(np.sqrt(np.diag(params_covarianceMMB)))\n",
    "\n",
    "def funcMMH(x, Km, Vmax) :\n",
    "    return (Vmax * x)/(Km + x)\n",
    "\n",
    "paramsMMH, params_covarianceMMH = curve_fit(funcMMH,x1,df0['Horse-mean'], [12.5, 0.01])\n",
    "print(paramsMMH)\n",
    "print(np.sqrt(np.diag(params_covarianceMMH)))"
   ]
  },
  {
   "cell_type": "code",
   "execution_count": null,
   "id": "c0aa5683",
   "metadata": {},
   "outputs": [],
   "source": [
    "xin=np.linspace(0,180,100)\n",
    "\n",
    "resid1n = df0['Horse-mean'] - funcMMH(df0['[Guaiacol]'], *paramsMMH) \n",
    "resid1n = df0['Bovine-mean'] - funcMMB(df0['[Guaiacol]'], *paramsMMB)\n",
    "\n",
    "fig = plt.figure(figsize=(7,5)) \n",
    "\n",
    "xlimits = [0, 175] \n",
    "\n",
    "ax1 = fig.add_axes([0.1, 0.51, 1, 0.81]) \n",
    "\n",
    "ax1.errorbar(df0['[Guaiacol]'], df0['Horse-mean'], yerr=df0['Horse-std'], fmt='o', color='red', ecolor='red', label='Horse Heart Cytochrome c', capsize=5, capthick=1.5, elinewidth=1)\n",
    "ax1.plot(xin, funcMMH(xin, *paramsMMH), color=\"Red\", linestyle='-', label='Horse Heart Cytochrome c Fit')\n",
    "ax1.errorbar(df0['[Guaiacol]'], df0['Bovine-mean'], yerr=df0['Bovine-std'], fmt='o', color='blue', ecolor='blue', label='Bovine Heart Cytochrome c',capsize=5, capthick=1.5, elinewidth=1)\n",
    "ax1.plot(xin, funcMMB(xin, *paramsMMB), color=\"Blue\", linestyle='-', label='Bovine Heart Cytochrome c Fit')\n",
    "ax1.axis(xlimits + [0, 0.03]) \n",
    "ax1.set_ylabel('Initial Velocity (μM/s)', fontsize=14) \n",
    "ax1.legend(loc='lower right')\n",
    "plt.xlabel('$[Guaiacol]$ (μM)', fontsize=14)\n",
    "plt.title('Peroxidase Activity', fontsize=18)\n",
    "plt.savefig('figurename.png')"
   ]
  }
 ],
 "metadata": {
  "kernelspec": {
   "display_name": "Python 3 (ipykernel)",
   "language": "python",
   "name": "python3"
  },
  "language_info": {
   "codemirror_mode": {
    "name": "ipython",
    "version": 3
   },
   "file_extension": ".py",
   "mimetype": "text/x-python",
   "name": "python",
   "nbconvert_exporter": "python",
   "pygments_lexer": "ipython3",
   "version": "3.9.12"
  }
 },
 "nbformat": 4,
 "nbformat_minor": 5
}
